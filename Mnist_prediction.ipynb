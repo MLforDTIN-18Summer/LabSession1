{
 "cells": [
  {
   "cell_type": "code",
   "execution_count": 1,
   "metadata": {
    "ExecuteTime": {
     "end_time": "2018-06-01T05:26:09.214257Z",
     "start_time": "2018-06-01T05:26:08.960966Z"
    }
   },
   "outputs": [],
   "source": [
    "import numpy as np\n",
    "import pandas as pd\n",
    "import matplotlib.pyplot as plt\n",
    "import os, subprocess\n",
    "import gzip\n",
    "%matplotlib inline"
   ]
  },
  {
   "cell_type": "markdown",
   "metadata": {
    "ExecuteTime": {
     "end_time": "2018-05-30T23:45:39.812974Z",
     "start_time": "2018-05-30T23:45:39.806558Z"
    }
   },
   "source": [
    "### Loading the Data"
   ]
  },
  {
   "cell_type": "code",
   "execution_count": 2,
   "metadata": {
    "ExecuteTime": {
     "end_time": "2018-06-01T05:26:10.476800Z",
     "start_time": "2018-06-01T05:26:10.148174Z"
    }
   },
   "outputs": [],
   "source": [
    "MNIST_data_path = \"./qt_gui/data/MNIST\"\n",
    "with gzip.open(\"{}/train-images-idx3-ubyte.gz\".format(MNIST_data_path), \"rb\") as train_images_file, gzip.open(\"{}/train-labels-idx1-ubyte.gz\".format(MNIST_data_path), \"rb\") as train_labels_file, gzip.open(\"{}/t10k-images-idx3-ubyte.gz\".format(MNIST_data_path)) as test_images_file, gzip.open(\"{}/t10k-labels-idx1-ubyte.gz\".format(MNIST_data_path)) as test_labels_file:\n",
    "    train_images_file = train_images_file.read()\n",
    "    train_labels_file = train_labels_file.read()\n",
    "    test_images_file = test_images_file.read()\n",
    "    test_labels_file = test_labels_file.read()\n",
    "    train_images = np.frombuffer(train_images_file, dtype=np.uint8, offset=16).astype(np.float32)\n",
    "    train_labels = np.frombuffer(train_labels_file, dtype=np.uint8, offset=8)\n",
    "    test_images = np.frombuffer(test_images_file, dtype=np.uint8, offset=16).astype(np.float32)\n",
    "    test_labels = np.frombuffer(test_labels_file, dtype=np.uint8, offset=8)\n",
    "    train_images = train_images.reshape(60000,784)\n",
    "    test_images = test_images.reshape(10000, 784)\n",
    "    database_train_images = pd.DataFrame(train_images)\n",
    "    database_train_labels = pd.DataFrame(train_labels)\n",
    "    database_test_images = pd.DataFrame(test_images)\n",
    "    database_test_labels = pd.DataFrame(test_labels)"
   ]
  },
  {
   "cell_type": "markdown",
   "metadata": {},
   "source": [
    "### Sample data"
   ]
  },
  {
   "cell_type": "code",
   "execution_count": 3,
   "metadata": {
    "ExecuteTime": {
     "end_time": "2018-06-01T05:26:11.700540Z",
     "start_time": "2018-06-01T05:26:11.604571Z"
    }
   },
   "outputs": [
    {
     "data": {
      "image/png": "[encoded data removed]",
      "text/plain": [
       "<Figure size 432x288 with 1 Axes>"
      ]
     },
     "metadata": {},
     "output_type": "display_data"
    }
   ],
   "source": [
    "plt.imshow(np.reshape(train_images[0], (28, 28)))\n",
    "plt.show()"
   ]
  },
  {
   "cell_type": "markdown",
   "metadata": {},
   "source": [
    "### Shape of train data"
   ]
  },
  {
   "cell_type": "code",
   "execution_count": 4,
   "metadata": {
    "ExecuteTime": {
     "end_time": "2018-06-01T05:26:12.420962Z",
     "start_time": "2018-06-01T05:26:12.415085Z"
    }
   },
   "outputs": [
    {
     "data": {
      "text/plain": [
       "(60000, 784)"
      ]
     },
     "execution_count": 4,
     "metadata": {},
     "output_type": "execute_result"
    }
   ],
   "source": [
    "train_images.shape"
   ]
  },
  {
   "cell_type": "code",
   "execution_count": 5,
   "metadata": {
    "ExecuteTime": {
     "end_time": "2018-06-01T05:26:12.804346Z",
     "start_time": "2018-06-01T05:26:12.801116Z"
    }
   },
   "outputs": [
    {
     "data": {
      "text/plain": [
       "(60000,)"
      ]
     },
     "execution_count": 5,
     "metadata": {},
     "output_type": "execute_result"
    }
   ],
   "source": [
    "train_labels.shape"
   ]
  },
  {
   "cell_type": "code",
   "execution_count": 6,
   "metadata": {
    "ExecuteTime": {
     "end_time": "2018-06-01T05:26:13.409104Z",
     "start_time": "2018-06-01T05:26:13.175933Z"
    }
   },
   "outputs": [],
   "source": [
    "from sklearn.linear_model import LogisticRegression"
   ]
  },
  {
   "cell_type": "code",
   "execution_count": 7,
   "metadata": {
    "ExecuteTime": {
     "end_time": "2018-06-01T05:26:13.849228Z",
     "start_time": "2018-06-01T05:26:13.847157Z"
    }
   },
   "outputs": [],
   "source": [
    "from sklearn import svm"
   ]
  },
  {
   "cell_type": "code",
   "execution_count": 8,
   "metadata": {
    "ExecuteTime": {
     "end_time": "2018-06-01T05:26:14.289267Z",
     "start_time": "2018-06-01T05:26:14.286990Z"
    }
   },
   "outputs": [],
   "source": [
    "from sklearn.neighbors import KNeighborsClassifier"
   ]
  },
  {
   "cell_type": "markdown",
   "metadata": {},
   "source": [
    "### subsetting the train data to 1000 images"
   ]
  },
  {
   "cell_type": "code",
   "execution_count": 9,
   "metadata": {
    "ExecuteTime": {
     "end_time": "2018-06-01T05:26:14.774353Z",
     "start_time": "2018-06-01T05:26:14.771715Z"
    }
   },
   "outputs": [],
   "source": [
    "x_train = train_images[:1000]\n",
    "y_train = train_labels[:1000]"
   ]
  },
  {
   "cell_type": "markdown",
   "metadata": {
    "ExecuteTime": {
     "end_time": "2018-05-30T23:49:06.702808Z",
     "start_time": "2018-05-30T23:49:06.700659Z"
    }
   },
   "source": [
    "### Instantiating the various models"
   ]
  },
  {
   "cell_type": "code",
   "execution_count": 10,
   "metadata": {
    "ExecuteTime": {
     "end_time": "2018-06-01T05:26:15.220882Z",
     "start_time": "2018-06-01T05:26:15.218466Z"
    }
   },
   "outputs": [],
   "source": [
    "logisticRegr = LogisticRegression()"
   ]
  },
  {
   "cell_type": "code",
   "execution_count": 11,
   "metadata": {
    "ExecuteTime": {
     "end_time": "2018-06-01T05:26:15.672723Z",
     "start_time": "2018-06-01T05:26:15.670391Z"
    }
   },
   "outputs": [],
   "source": [
    "svm_classifer = svm.SVC(gamma=0.01)"
   ]
  },
  {
   "cell_type": "code",
   "execution_count": 12,
   "metadata": {
    "ExecuteTime": {
     "end_time": "2018-06-01T05:26:16.116433Z",
     "start_time": "2018-06-01T05:26:16.114431Z"
    },
    "hide_input": false
   },
   "outputs": [],
   "source": [
    "knn_classifier = KNeighborsClassifier()"
   ]
  },
  {
   "cell_type": "markdown",
   "metadata": {},
   "source": [
    "### Training the various models"
   ]
  },
  {
   "cell_type": "code",
   "execution_count": 13,
   "metadata": {
    "ExecuteTime": {
     "end_time": "2018-06-01T05:26:16.798753Z",
     "start_time": "2018-06-01T05:26:16.487118Z"
    }
   },
   "outputs": [
    {
     "data": {
      "text/plain": [
       "LogisticRegression(C=1.0, class_weight=None, dual=False, fit_intercept=True,\n",
       "          intercept_scaling=1, max_iter=100, multi_class='ovr', n_jobs=1,\n",
       "          penalty='l2', random_state=None, solver='liblinear', tol=0.0001,\n",
       "          verbose=0, warm_start=False)"
      ]
     },
     "execution_count": 13,
     "metadata": {},
     "output_type": "execute_result"
    }
   ],
   "source": [
    "logisticRegr.fit(x_train, y_train)"
   ]
  },
  {
   "cell_type": "code",
   "execution_count": 14,
   "metadata": {
    "ExecuteTime": {
     "end_time": "2018-06-01T05:26:19.281953Z",
     "start_time": "2018-06-01T05:26:17.245006Z"
    }
   },
   "outputs": [
    {
     "data": {
      "text/plain": [
       "SVC(C=1.0, cache_size=200, class_weight=None, coef0=0.0,\n",
       "  decision_function_shape='ovr', degree=3, gamma=0.01, kernel='rbf',\n",
       "  max_iter=-1, probability=False, random_state=None, shrinking=True,\n",
       "  tol=0.001, verbose=False)"
      ]
     },
     "execution_count": 14,
     "metadata": {},
     "output_type": "execute_result"
    }
   ],
   "source": [
    "svm_classifer.fit(x_train, y_train)"
   ]
  },
  {
   "cell_type": "code",
   "execution_count": 15,
   "metadata": {
    "ExecuteTime": {
     "end_time": "2018-06-01T05:26:19.692784Z",
     "start_time": "2018-06-01T05:26:19.675173Z"
    }
   },
   "outputs": [
    {
     "data": {
      "text/plain": [
       "KNeighborsClassifier(algorithm='auto', leaf_size=30, metric='minkowski',\n",
       "           metric_params=None, n_jobs=1, n_neighbors=5, p=2,\n",
       "           weights='uniform')"
      ]
     },
     "execution_count": 15,
     "metadata": {},
     "output_type": "execute_result"
    }
   ],
   "source": [
    "knn_classifier.fit(x_train, y_train)"
   ]
  },
  {
   "cell_type": "markdown",
   "metadata": {},
   "source": [
    "### Pickling the models to disk"
   ]
  },
  {
   "cell_type": "code",
   "execution_count": 16,
   "metadata": {
    "ExecuteTime": {
     "end_time": "2018-06-01T05:26:20.630598Z",
     "start_time": "2018-06-01T05:26:20.628457Z"
    }
   },
   "outputs": [],
   "source": [
    "from sklearn.externals import joblib"
   ]
  },
  {
   "cell_type": "code",
   "execution_count": 17,
   "metadata": {
    "ExecuteTime": {
     "end_time": "2018-06-01T05:26:21.417995Z",
     "start_time": "2018-06-01T05:26:21.374149Z"
    }
   },
   "outputs": [
    {
     "data": {
      "text/plain": [
       "['model/knn_model.pk']"
      ]
     },
     "execution_count": 17,
     "metadata": {},
     "output_type": "execute_result"
    }
   ],
   "source": [
    "joblib.dump(logisticRegr, \"model/logistic_model.pk\")\n",
    "joblib.dump(svm_classifer, \"model/svm_model.pk\")\n",
    "joblib.dump(knn_classifier, \"model/knn_model.pk\")"
   ]
  },
  {
   "cell_type": "code",
   "execution_count": 18,
   "metadata": {
    "ExecuteTime": {
     "end_time": "2018-06-01T05:26:22.634381Z",
     "start_time": "2018-06-01T05:26:22.620109Z"
    }
   },
   "outputs": [],
   "source": [
    "import cv2"
   ]
  },
  {
   "cell_type": "code",
   "execution_count": 22,
   "metadata": {
    "ExecuteTime": {
     "end_time": "2018-06-01T05:27:22.875931Z",
     "start_time": "2018-06-01T05:27:22.870877Z"
    }
   },
   "outputs": [],
   "source": [
    "inputImage = cv2.imread(\"qt_gui/.~tmpImage.png\")"
   ]
  },
  {
   "cell_type": "code",
   "execution_count": 23,
   "metadata": {
    "ExecuteTime": {
     "end_time": "2018-06-01T05:27:23.273836Z",
     "start_time": "2018-06-01T05:27:23.270886Z"
    }
   },
   "outputs": [],
   "source": [
    "inputImage = cv2.cvtColor(inputImage, cv2.COLOR_RGB2GRAY)"
   ]
  },
  {
   "cell_type": "code",
   "execution_count": 24,
   "metadata": {
    "ExecuteTime": {
     "end_time": "2018-06-01T05:27:24.087782Z",
     "start_time": "2018-06-01T05:27:24.085446Z"
    }
   },
   "outputs": [],
   "source": [
    "row, col = inputImage.shape"
   ]
  },
  {
   "cell_type": "code",
   "execution_count": 25,
   "metadata": {
    "ExecuteTime": {
     "end_time": "2018-06-01T05:27:25.101989Z",
     "start_time": "2018-06-01T05:27:24.629910Z"
    }
   },
   "outputs": [],
   "source": [
    "min_non_zero_pixel = [col, row]\n",
    "max_non_zero_pixel = [0, 0]\n",
    "for x in range(row):\n",
    "    for y in range(col):\n",
    "        if inputImage[x, y] == 0:\n",
    "#             print(x, y)\n",
    "            if y < min_non_zero_pixel[0]:\n",
    "                min_non_zero_pixel[0] = y\n",
    "#                 print(min_non_zero_pixel)\n",
    "            if y > max_non_zero_pixel[0]:\n",
    "                max_non_zero_pixel[0] = y                           \n",
    "#                 print(max_non_zero_pixel)\n",
    "            if x < min_non_zero_pixel[1]:\n",
    "                min_non_zero_pixel[1] = x\n",
    "#                 print(min_non_zero_pixel)\n",
    "            if x > max_non_zero_pixel[1]:\n",
    "                max_non_zero_pixel[1] = x\n",
    "#                 print(max_non_zero_pixel)"
   ]
  },
  {
   "cell_type": "code",
   "execution_count": null,
   "metadata": {},
   "outputs": [],
   "source": [
    "w_bottleneck = max_non_zero_pixel[1] - min_non_zero_pixel[1]\n",
    "h_bottleneck = max_non_zero_pixel[0] - min_non_zero_pixel[0]\n",
    "\n",
    "bottleneck = w_bottleneck if w_bottleneck > h_bottleneck else h_bottleneck\n",
    "bottleneck //= 2\n",
    "bottleneck += 20\n",
    "\n",
    "center = [(max_non_zero_pixel[0] + min_non_zero_pixel[0])//2, (max_non_zero_pixel[1] + min_non_zero_pixel[1])//2]\n",
    "\n",
    "min_non_zero_pixel = [center[0] - bottleneck if center[0] - bottleneck > 0 else 0 ,center[1] - bottleneck if center[1] - bottleneck else 0]\n",
    "max_non_zero_pixel = [center[0] + bottleneck if center[0] + bottleneck < col else col ,center[1] + bottleneck if center[1] + bottleneck < row else row]"
   ]
  },
  {
   "cell_type": "code",
   "execution_count": 26,
   "metadata": {
    "ExecuteTime": {
     "end_time": "2018-06-01T05:27:25.473978Z",
     "start_time": "2018-06-01T05:27:25.471004Z"
    }
   },
   "outputs": [],
   "source": [
    "roi = inputImage[min_non_zero_pixel[1]:max_non_zero_pixel[1], min_non_zero_pixel[0]:max_non_zero_pixel[0]]"
   ]
  },
  {
   "cell_type": "code",
   "execution_count": 27,
   "metadata": {
    "ExecuteTime": {
     "end_time": "2018-06-01T05:27:25.886480Z",
     "start_time": "2018-06-01T05:27:25.884160Z"
    }
   },
   "outputs": [],
   "source": [
    "subImage = cv2.resize(np.invert(roi), (28, 28))"
   ]
  },
  {
   "cell_type": "code",
   "execution_count": 28,
   "metadata": {
    "ExecuteTime": {
     "end_time": "2018-06-01T05:27:26.452531Z",
     "start_time": "2018-06-01T05:27:26.333663Z"
    }
   },
   "outputs": [
    {
     "data": {
      "text/plain": [
       "<matplotlib.image.AxesImage at 0x7fee840e9cf8>"
      ]
     },
     "execution_count": 28,
     "metadata": {},
     "output_type": "execute_result"
    },
    {
     "data": {
      "image/png": "[encoded data removed]",
      "text/plain": [
       "<Figure size 432x288 with 1 Axes>"
      ]
     },
     "metadata": {},
     "output_type": "display_data"
    }
   ],
   "source": [
    "plt.imshow(subImage)"
   ]
  },
  {
   "cell_type": "code",
   "execution_count": 29,
   "metadata": {
    "ExecuteTime": {
     "end_time": "2018-06-01T05:27:26.923833Z",
     "start_time": "2018-06-01T05:27:26.919076Z"
    }
   },
   "outputs": [
    {
     "data": {
      "text/plain": [
       "array([7], dtype=uint8)"
      ]
     },
     "execution_count": 29,
     "metadata": {},
     "output_type": "execute_result"
    }
   ],
   "source": [
    "svm_classifer.predict(np.reshape(subImage, (-1, 784)))"
   ]
  },
  {
   "cell_type": "code",
   "execution_count": 30,
   "metadata": {
    "ExecuteTime": {
     "end_time": "2018-06-01T05:27:27.370022Z",
     "start_time": "2018-06-01T05:27:27.366243Z"
    }
   },
   "outputs": [
    {
     "data": {
      "text/plain": [
       "array([7], dtype=uint8)"
      ]
     },
     "execution_count": 30,
     "metadata": {},
     "output_type": "execute_result"
    }
   ],
   "source": [
    "logisticRegr.predict(np.reshape(subImage, (-1, 784)))"
   ]
  },
  {
   "cell_type": "code",
   "execution_count": 31,
   "metadata": {
    "ExecuteTime": {
     "end_time": "2018-06-01T05:27:28.060868Z",
     "start_time": "2018-06-01T05:27:28.052037Z"
    }
   },
   "outputs": [
    {
     "data": {
      "text/plain": [
       "array([1], dtype=uint8)"
      ]
     },
     "execution_count": 31,
     "metadata": {},
     "output_type": "execute_result"
    }
   ],
   "source": [
    "knn_classifier.predict(np.reshape(subImage, (-1, 784)))"
   ]
  }
 ],
 "metadata": {
  "kernelspec": {
   "display_name": "Python 3",
   "language": "python",
   "name": "python3"
  },
  "language_info": {
   "codemirror_mode": {
    "name": "ipython",
    "version": 3
   },
   "file_extension": ".py",
   "mimetype": "text/x-python",
   "name": "python",
   "nbconvert_exporter": "python",
   "pygments_lexer": "ipython3",
   "version": "3.6.3"
  },
  "varInspector": {
   "cols": {
    "lenName": 16,
    "lenType": 16,
    "lenVar": 40
   },
   "kernels_config": {
    "python": {
     "delete_cmd_postfix": "",
     "delete_cmd_prefix": "del ",
     "library": "var_list.py",
     "varRefreshCmd": "print(var_dic_list())"
    },
    "r": {
     "delete_cmd_postfix": ") ",
     "delete_cmd_prefix": "rm(",
     "library": "var_list.r",
     "varRefreshCmd": "cat(var_dic_list()) "
    }
   },
   "types_to_exclude": [
    "module",
    "function",
    "builtin_function_or_method",
    "instance",
    "_Feature"
   ],
   "window_display": false
  }
 },
 "nbformat": 4,
 "nbformat_minor": 2
}
