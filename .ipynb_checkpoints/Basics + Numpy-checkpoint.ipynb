{
 "cells": [
  {
   "cell_type": "markdown",
   "metadata": {},
   "source": [
    "### 1.How to load data file(s)?"
   ]
  },
  {
   "cell_type": "markdown",
   "metadata": {},
   "source": [
    "#### using pandas"
   ]
  },
  {
   "cell_type": "code",
   "execution_count": 6,
   "metadata": {
    "ExecuteTime": {
     "end_time": "2018-05-30T22:57:11.226820Z",
     "start_time": "2018-05-30T22:57:11.163270Z"
    }
   },
   "outputs": [
    {
     "name": "stdout",
     "output_type": "stream",
     "text": [
      "   userId  movieId  rating   timestamp\n",
      "0       1       31     2.5  1260759144\n",
      "1       1     1029     3.0  1260759179\n",
      "2       1     1061     3.0  1260759182\n",
      "3       1     1129     2.0  1260759185\n",
      "4       1     1172     4.0  1260759205\n",
      "5       1     1263     2.0  1260759151\n",
      "6       1     1287     2.0  1260759187\n",
      "7       1     1293     2.0  1260759148\n",
      "8       1     1339     3.5  1260759125\n",
      "9       1     1343     2.0  1260759131\n"
     ]
    }
   ],
   "source": [
    "import pandas as pd\n",
    "#Import Library Pandas\n",
    "df2 = pd.read_csv(\"data/ratings.csv\")  #I am working in Windows environment\n",
    "#Reading the dataset in a dataframe using Pandas\n",
    "print (df2.head(10))"
   ]
  },
  {
   "cell_type": "code",
   "execution_count": 7,
   "metadata": {
    "ExecuteTime": {
     "end_time": "2018-05-30T22:57:11.235725Z",
     "start_time": "2018-05-30T22:57:11.228476Z"
    }
   },
   "outputs": [
    {
     "name": "stdout",
     "output_type": "stream",
     "text": [
      "         0       1        2        3  4\n",
      "0  3.62160  8.6661 -2.80730 -0.44699  0\n",
      "1  4.54590  8.1674 -2.45860 -1.46210  0\n",
      "2  3.86600 -2.6383  1.92420  0.10645  0\n",
      "3  3.45660  9.5228 -4.01120 -3.59440  0\n",
      "4  0.32924 -4.4552  4.57180 -0.98880  0\n",
      "5  4.36840  9.6718 -3.96060 -3.16250  0\n",
      "6  3.59120  3.0129  0.72888  0.56421  0\n",
      "7  2.09220 -6.8100  8.46360 -0.60216  0\n",
      "8  3.20320  5.7588 -0.75345 -0.61251  0\n",
      "9  1.53560  9.1772 -2.27180 -0.73535  0\n"
     ]
    }
   ],
   "source": [
    "df=pd.read_csv(\"data/data_banknote_authentication-1.txt\",sep=\",\",header=None)\n",
    "print (df.head(10))"
   ]
  },
  {
   "cell_type": "markdown",
   "metadata": {},
   "source": [
    "#### using with-open in python"
   ]
  },
  {
   "cell_type": "code",
   "execution_count": 9,
   "metadata": {
    "ExecuteTime": {
     "end_time": "2018-05-30T22:57:25.000486Z",
     "start_time": "2018-05-30T22:57:24.885568Z"
    }
   },
   "outputs": [
    {
     "name": "stdout",
     "output_type": "stream",
     "text": [
      "[['userId', 'movieId', 'rating', 'timestamp'], ['1', '31', '2.5', '1260759144'], ['1', '1029', '3.0', '1260759179'], ['1', '1061', '3.0', '1260759182'], ['1', '1129', '2.0', '1260759185'], ['1', '1172', '4.0', '1260759205'], ['1', '1263', '2.0', '1260759151'], ['1', '1287', '2.0', '1260759187'], ['1', '1293', '2.0', '1260759148'], ['1', '1339', '3.5', '1260759125']]\n"
     ]
    }
   ],
   "source": [
    "import csv\n",
    "\n",
    "with open(\"data/ratings.csv\", 'r') as f:\n",
    "  reader = csv.reader(f)\n",
    "  your_list = list(reader)\n",
    "print (your_list[0:10])"
   ]
  },
  {
   "cell_type": "code",
   "execution_count": 10,
   "metadata": {
    "ExecuteTime": {
     "end_time": "2018-05-30T22:57:33.608707Z",
     "start_time": "2018-05-30T22:57:33.590728Z"
    }
   },
   "outputs": [
    {
     "name": "stdout",
     "output_type": "stream",
     "text": [
      "[['3.6216', '8.6661', '-2.8073', '-0.44699', '0'], ['4.5459', '8.1674', '-2.4586', '-1.4621', '0'], ['3.866', '-2.6383', '1.9242', '0.10645', '0'], ['3.4566', '9.5228', '-4.0112', '-3.5944', '0'], ['0.32924', '-4.4552', '4.5718', '-0.9888', '0'], ['4.3684', '9.6718', '-3.9606', '-3.1625', '0'], ['3.5912', '3.0129', '0.72888', '0.56421', '0'], ['2.0922', '-6.81', '8.4636', '-0.60216', '0'], ['3.2032', '5.7588', '-0.75345', '-0.61251', '0'], ['1.5356', '9.1772', '-2.2718', '-0.73535', '0']]\n"
     ]
    }
   ],
   "source": [
    "with open(\"data/data_banknote_authentication-1.txt\") as f:\n",
    "    content = f.readlines()\n",
    "# you may also want to remove whitespace characters like `\\n` at the end of each line\n",
    "content = [x.strip().split(\",\") for x in content]\n",
    "print (content[:10])"
   ]
  },
  {
   "cell_type": "markdown",
   "metadata": {},
   "source": [
    "### 2. How to convert a variable to different data type?"
   ]
  },
  {
   "cell_type": "markdown",
   "metadata": {},
   "source": [
    "#### dataframe and array"
   ]
  },
  {
   "cell_type": "code",
   "execution_count": 11,
   "metadata": {
    "ExecuteTime": {
     "end_time": "2018-05-30T22:57:38.113376Z",
     "start_time": "2018-05-30T22:57:38.105722Z"
    }
   },
   "outputs": [
    {
     "name": "stdout",
     "output_type": "stream",
     "text": [
      "[[  3.6216    8.6661   -2.8073   -0.44699   0.     ]\n",
      " [  4.5459    8.1674   -2.4586   -1.4621    0.     ]\n",
      " [  3.866    -2.6383    1.9242    0.10645   0.     ]\n",
      " ...\n",
      " [ -3.7503  -13.4586   17.5932   -2.7771    1.     ]\n",
      " [ -3.5637   -8.3827   12.393    -1.2823    1.     ]\n",
      " [ -2.5419   -0.65804   2.6842    1.1952    1.     ]]\n"
     ]
    }
   ],
   "source": [
    "# dataframe to array\n",
    "df = df.values\n",
    "print (df)"
   ]
  },
  {
   "cell_type": "code",
   "execution_count": 12,
   "metadata": {
    "ExecuteTime": {
     "end_time": "2018-05-30T22:57:38.131804Z",
     "start_time": "2018-05-30T22:57:38.117725Z"
    }
   },
   "outputs": [
    {
     "name": "stdout",
     "output_type": "stream",
     "text": [
      "         0       1        2        3    4\n",
      "0  3.62160  8.6661 -2.80730 -0.44699  0.0\n",
      "1  4.54590  8.1674 -2.45860 -1.46210  0.0\n",
      "2  3.86600 -2.6383  1.92420  0.10645  0.0\n",
      "3  3.45660  9.5228 -4.01120 -3.59440  0.0\n",
      "4  0.32924 -4.4552  4.57180 -0.98880  0.0\n",
      "5  4.36840  9.6718 -3.96060 -3.16250  0.0\n",
      "6  3.59120  3.0129  0.72888  0.56421  0.0\n",
      "7  2.09220 -6.8100  8.46360 -0.60216  0.0\n",
      "8  3.20320  5.7588 -0.75345 -0.61251  0.0\n",
      "9  1.53560  9.1772 -2.27180 -0.73535  0.0\n"
     ]
    }
   ],
   "source": [
    "# array to dataframe \n",
    "df1 = pd.DataFrame(data=df,index=None,columns=None)  # 1st row as the column name\n",
    "print (df1.head(10))"
   ]
  },
  {
   "cell_type": "markdown",
   "metadata": {},
   "source": [
    "#### list and array"
   ]
  },
  {
   "cell_type": "code",
   "execution_count": 13,
   "metadata": {
    "ExecuteTime": {
     "end_time": "2018-05-30T22:57:38.207522Z",
     "start_time": "2018-05-30T22:57:38.135019Z"
    }
   },
   "outputs": [
    {
     "name": "stdout",
     "output_type": "stream",
     "text": [
      "[['userId' 'movieId' 'rating' 'timestamp']\n",
      " ['1' '31' '2.5' '1260759144']\n",
      " ['1' '1029' '3.0' '1260759179']\n",
      " ...\n",
      " ['671' '6365' '4.0' '1070940363']\n",
      " ['671' '6385' '2.5' '1070979663']\n",
      " ['671' '6565' '3.5' '1074784724']]\n"
     ]
    }
   ],
   "source": [
    "# list to array\n",
    "import numpy as np\n",
    "myarray = np.asarray(your_list)\n",
    "print (myarray)"
   ]
  },
  {
   "cell_type": "code",
   "execution_count": 14,
   "metadata": {
    "ExecuteTime": {
     "end_time": "2018-05-30T22:57:38.229569Z",
     "start_time": "2018-05-30T22:57:38.209216Z"
    }
   },
   "outputs": [
    {
     "name": "stdout",
     "output_type": "stream",
     "text": [
      "[['userId', 'movieId', 'rating', 'timestamp'], ['1', '31', '2.5', '1260759144'], ['1', '1029', '3.0', '1260759179'], ['1', '1061', '3.0', '1260759182'], ['1', '1129', '2.0', '1260759185'], ['1', '1172', '4.0', '1260759205'], ['1', '1263', '2.0', '1260759151'], ['1', '1287', '2.0', '1260759187'], ['1', '1293', '2.0', '1260759148'], ['1', '1339', '3.5', '1260759125']]\n"
     ]
    }
   ],
   "source": [
    "# array to list\n",
    "print (myarray[:10].tolist())"
   ]
  },
  {
   "cell_type": "markdown",
   "metadata": {},
   "source": [
    "### 3. How to create plots (Histogram, Scatter, Box Plot)?"
   ]
  },
  {
   "cell_type": "markdown",
   "metadata": {},
   "source": [
    "#### Histogram"
   ]
  },
  {
   "cell_type": "code",
   "execution_count": 15,
   "metadata": {
    "ExecuteTime": {
     "end_time": "2018-05-30T22:57:38.469683Z",
     "start_time": "2018-05-30T22:57:38.231161Z"
    }
   },
   "outputs": [
    {
     "data": {
      "text/plain": [
       "<Figure size 640x480 with 1 Axes>"
      ]
     },
     "metadata": {},
     "output_type": "display_data"
    }
   ],
   "source": [
    "import matplotlib.pyplot as plt\n",
    "import pandas as pd\n",
    "\n",
    "#Plots in matplotlib reside within a figure object, use plt.figure to create new figure\n",
    "fig=plt.figure()\n",
    "#Create one or more subplots using add_subplot, because you can't create blank figure\n",
    "ax1 = fig.add_subplot(1,1,1)\n",
    "#Variable\n",
    "ax1.hist(df2.iloc[0:10,2:3],bins = 5)\n",
    "#Labels and Tit\n",
    "plt.title('number')\n",
    "plt.xlabel('X')\n",
    "plt.ylabel('Y')\n",
    "plt.show()"
   ]
  },
  {
   "cell_type": "markdown",
   "metadata": {},
   "source": [
    "#### Scatter"
   ]
  },
  {
   "cell_type": "code",
   "execution_count": 16,
   "metadata": {
    "ExecuteTime": {
     "end_time": "2018-05-30T22:57:38.586113Z",
     "start_time": "2018-05-30T22:57:38.471098Z"
    }
   },
   "outputs": [
    {
     "data": {
      "image/png": "[encoded data removed]",
      "text/plain": [
       "<Figure size 432x288 with 1 Axes>"
      ]
     },
     "metadata": {},
     "output_type": "display_data"
    }
   ],
   "source": [
    "\n",
    "fig=plt.figure()\n",
    "ax1 = fig.add_subplot(1,1,1)\n",
    "ax1.scatter(df1.iloc[0],df1.iloc[1])\n",
    "#Labels and Tit\n",
    "plt.title('scatter')\n",
    "plt.xlabel('X')\n",
    "plt.ylabel('Y')\n",
    "plt.show()"
   ]
  },
  {
   "cell_type": "code",
   "execution_count": 17,
   "metadata": {
    "ExecuteTime": {
     "end_time": "2018-05-30T22:57:38.713383Z",
     "start_time": "2018-05-30T22:57:38.587471Z"
    }
   },
   "outputs": [
    {
     "data": {
      "text/plain": [
       "<function matplotlib.pyplot.show(*args, **kw)>"
      ]
     },
     "execution_count": 17,
     "metadata": {},
     "output_type": "execute_result"
    },
    {
     "data": {
      "image/png": "[encoded data removed]",
      "text/plain": [
       "<Figure size 432x288 with 1 Axes>"
      ]
     },
     "metadata": {},
     "output_type": "display_data"
    }
   ],
   "source": [
    "# Scatter\n",
    "plt.scatter(df1.iloc[0],df1.iloc[1], color='green', marker='o')\n",
    "plt.scatter(df1.iloc[2],df1.iloc[3], color='red', marker='^')\n",
    "plt.show"
   ]
  },
  {
   "cell_type": "markdown",
   "metadata": {},
   "source": [
    "#### Box Plot"
   ]
  },
  {
   "cell_type": "code",
   "execution_count": 18,
   "metadata": {
    "ExecuteTime": {
     "end_time": "2018-05-30T22:57:39.224136Z",
     "start_time": "2018-05-30T22:57:38.714671Z"
    }
   },
   "outputs": [
    {
     "data": {
      "text/plain": [
       "<matplotlib.axes._subplots.AxesSubplot at 0x7f8756eff6d8>"
      ]
     },
     "execution_count": 18,
     "metadata": {},
     "output_type": "execute_result"
    },
    {
     "data": {
      "image/png": "[encoded data removed]",
      "text/plain": [
       "<Figure size 432x288 with 1 Axes>"
      ]
     },
     "metadata": {},
     "output_type": "display_data"
    }
   ],
   "source": [
    "\n",
    "import seaborn as sns \n",
    "sns.boxplot(df2.iloc[0:10,2:3]) \n",
    "# sns.despine()"
   ]
  },
  {
   "cell_type": "markdown",
   "metadata": {},
   "source": [
    "### 4. Numpy "
   ]
  },
  {
   "cell_type": "markdown",
   "metadata": {},
   "source": [
    "#### unfunc"
   ]
  },
  {
   "cell_type": "code",
   "execution_count": 19,
   "metadata": {
    "ExecuteTime": {
     "end_time": "2018-05-30T22:57:39.228113Z",
     "start_time": "2018-05-30T22:57:39.225529Z"
    }
   },
   "outputs": [
    {
     "name": "stdout",
     "output_type": "stream",
     "text": [
      "[2 3 4 7]\n"
     ]
    }
   ],
   "source": [
    "# Numpy has a special group of “functions” called unfunc. Turns out numpy.add, numpy.subtract and so on belong to this special group of functions.\n",
    "a = np.array([1, 2, 3, 4])\n",
    "np.add.at(a, [0, 1, 3, 2,3,3], 1)\n",
    "print (a)"
   ]
  },
  {
   "cell_type": "markdown",
   "metadata": {},
   "source": [
    "#### logspace and linspace"
   ]
  },
  {
   "cell_type": "code",
   "execution_count": 31,
   "metadata": {
    "ExecuteTime": {
     "end_time": "2018-05-30T23:05:52.312981Z",
     "start_time": "2018-05-30T23:05:52.303893Z"
    }
   },
   "outputs": [
    {
     "name": "stdout",
     "output_type": "stream",
     "text": [
      "[ 0.0625      0.11573434  0.214311    0.39685026  0.73486725  1.36079\n",
      "  2.5198421   4.66611616  8.64047791 16.        ]\n"
     ]
    }
   ],
   "source": [
    "# generate array of sepcial sequence\n",
    "b = np.logspace(-4, 4, num=10, base=2)\n",
    "print (b)"
   ]
  },
  {
   "cell_type": "code",
   "execution_count": 21,
   "metadata": {
    "ExecuteTime": {
     "end_time": "2018-05-30T22:57:39.256878Z",
     "start_time": "2018-05-30T22:57:39.233600Z"
    }
   },
   "outputs": [
    {
     "name": "stdout",
     "output_type": "stream",
     "text": [
      "[-10.  -5.   0.   5.  10.]\n"
     ]
    }
   ],
   "source": [
    "c = np.linspace(-10, 10, 5)\n",
    "print (c)"
   ]
  },
  {
   "cell_type": "markdown",
   "metadata": {},
   "source": [
    "#### reshape and expand_dims"
   ]
  },
  {
   "cell_type": "code",
   "execution_count": 33,
   "metadata": {
    "ExecuteTime": {
     "end_time": "2018-05-30T23:25:43.508622Z",
     "start_time": "2018-05-30T23:25:43.494426Z"
    }
   },
   "outputs": [
    {
     "name": "stdout",
     "output_type": "stream",
     "text": [
      "before reshaping\n",
      "[[0. 0. 0. 0. 0. 0. 0. 0. 0. 0.]\n",
      " [0. 0. 0. 0. 0. 0. 0. 0. 0. 0.]]\n",
      "after reshaping\n",
      "[[0. 0. 0. 0. 0.]\n",
      " [0. 0. 0. 0. 0.]\n",
      " [0. 0. 0. 0. 0.]\n",
      " [0. 0. 0. 0. 0.]]\n",
      "after transposing\n",
      "[[0. 0. 0. 0.]\n",
      " [0. 0. 0. 0.]\n",
      " [0. 0. 0. 0.]\n",
      " [0. 0. 0. 0.]\n",
      " [0. 0. 0. 0.]]\n"
     ]
    }
   ],
   "source": [
    "d = np.zeros((2, 10))\n",
    "# get an array of zeros\n",
    "print (\"before reshaping\")\n",
    "print (d)\n",
    "e = d.reshape((4,5))\n",
    "print (\"after reshaping\")\n",
    "print (e)\n",
    "print (\"after transposing\")\n",
    "print (e.T)\n",
    "# transpose the array"
   ]
  },
  {
   "cell_type": "code",
   "execution_count": 30,
   "metadata": {
    "ExecuteTime": {
     "end_time": "2018-05-30T23:01:28.523869Z",
     "start_time": "2018-05-30T23:01:28.513113Z"
    }
   },
   "outputs": [
    {
     "name": "stdout",
     "output_type": "stream",
     "text": [
      "(4,)\n",
      "[[1 2 3 4]]\n",
      "(1, 4)\n"
     ]
    }
   ],
   "source": [
    "x = np.array([1, 2, 3, 4])\n",
    "\n",
    "print(x.shape) \n",
    "y = np.expand_dims(x, axis=0)\n",
    "# add a dimension\n",
    "print (y)\n",
    "print (y.shape)"
   ]
  }
 ],
 "metadata": {
  "kernelspec": {
   "display_name": "Python 3",
   "language": "python",
   "name": "python3"
  },
  "language_info": {
   "codemirror_mode": {
    "name": "ipython",
    "version": 3
   },
   "file_extension": ".py",
   "mimetype": "text/x-python",
   "name": "python",
   "nbconvert_exporter": "python",
   "pygments_lexer": "ipython3",
   "version": "3.6.3"
  },
  "varInspector": {
   "cols": {
    "lenName": 16,
    "lenType": 16,
    "lenVar": 40
   },
   "kernels_config": {
    "python": {
     "delete_cmd_postfix": "",
     "delete_cmd_prefix": "del ",
     "library": "var_list.py",
     "varRefreshCmd": "print(var_dic_list())"
    },
    "r": {
     "delete_cmd_postfix": ") ",
     "delete_cmd_prefix": "rm(",
     "library": "var_list.r",
     "varRefreshCmd": "cat(var_dic_list()) "
    }
   },
   "types_to_exclude": [
    "module",
    "function",
    "builtin_function_or_method",
    "instance",
    "_Feature"
   ],
   "window_display": false
  }
 },
 "nbformat": 4,
 "nbformat_minor": 2
}
