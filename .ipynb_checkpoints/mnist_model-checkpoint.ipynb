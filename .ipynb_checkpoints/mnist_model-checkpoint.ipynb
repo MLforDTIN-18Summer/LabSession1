{
 "cells": [
  {
   "cell_type": "code",
   "execution_count": 1,
   "metadata": {
    "ExecuteTime": {
     "end_time": "2018-05-28T19:09:06.313142Z",
     "start_time": "2018-05-28T19:09:06.032120Z"
    }
   },
   "outputs": [],
   "source": [
    "import numpy as np\n",
    "import pandas as pd\n",
    "import matplotlib.pyplot as plt\n",
    "import os, subprocess\n",
    "import gzip\n",
    "%matplotlib inline"
   ]
  },
  {
   "cell_type": "markdown",
   "metadata": {
    "ExecuteTime": {
     "end_time": "2018-05-30T23:45:39.812974Z",
     "start_time": "2018-05-30T23:45:39.806558Z"
    }
   },
   "source": [
    "### Loading the Data"
   ]
  },
  {
   "cell_type": "code",
   "execution_count": 2,
   "metadata": {
    "ExecuteTime": {
     "end_time": "2018-05-28T19:09:06.685711Z",
     "start_time": "2018-05-28T19:09:06.318362Z"
    }
   },
   "outputs": [],
   "source": [
    "MNIST_data_path = \"./learning_qt/data/MNIST\"\n",
    "with gzip.open(\"{}/train-images-idx3-ubyte.gz\".format(MNIST_data_path), \"rb\") as train_images_file, gzip.open(\"{}/train-labels-idx1-ubyte.gz\".format(MNIST_data_path), \"rb\") as train_labels_file, gzip.open(\"{}/t10k-images-idx3-ubyte.gz\".format(MNIST_data_path)) as test_images_file, gzip.open(\"{}/t10k-labels-idx1-ubyte.gz\".format(MNIST_data_path)) as test_labels_file:\n",
    "    train_images_file = train_images_file.read()\n",
    "    train_labels_file = train_labels_file.read()\n",
    "    test_images_file = test_images_file.read()\n",
    "    test_labels_file = test_labels_file.read()\n",
    "    train_images = np.frombuffer(train_images_file, dtype=np.uint8, offset=16).astype(np.float32)\n",
    "    train_labels = np.frombuffer(train_labels_file, dtype=np.uint8, offset=8)\n",
    "    test_images = np.frombuffer(test_images_file, dtype=np.uint8, offset=16).astype(np.float32)\n",
    "    test_labels = np.frombuffer(test_labels_file, dtype=np.uint8, offset=8)\n",
    "    train_images = train_images.reshape(60000,784)\n",
    "    test_images = test_images.reshape(10000, 784)\n",
    "    database_train_images = pd.DataFrame(train_images)\n",
    "    database_train_labels = pd.DataFrame(train_labels)\n",
    "    database_test_images = pd.DataFrame(test_images)\n",
    "    database_test_labels = pd.DataFrame(test_labels)"
   ]
  },
  {
   "cell_type": "markdown",
   "metadata": {},
   "source": [
    "### Sample data"
   ]
  },
  {
   "cell_type": "code",
   "execution_count": 29,
   "metadata": {
    "ExecuteTime": {
     "end_time": "2018-05-28T19:17:58.553110Z",
     "start_time": "2018-05-28T19:17:58.429306Z"
    }
   },
   "outputs": [
    {
     "data": {
      "text/plain": [
       "<matplotlib.image.AxesImage at 0x7f869d7ec7b8>"
      ]
     },
     "execution_count": 29,
     "metadata": {},
     "output_type": "execute_result"
    },
    {
     "data": {
      "image/png": "[encoded data removed]",
      "text/plain": [
       "<Figure size 432x288 with 1 Axes>"
      ]
     },
     "metadata": {},
     "output_type": "display_data"
    }
   ],
   "source": [
    "plt.imshow(np.reshape(train_images[0], (28, 28)))\n",
    "plt.show()"
   ]
  },
  {
   "cell_type": "markdown",
   "metadata": {},
   "source": [
    "### Shape of train data"
   ]
  },
  {
   "cell_type": "code",
   "execution_count": 3,
   "metadata": {
    "ExecuteTime": {
     "end_time": "2018-05-28T19:09:07.120262Z",
     "start_time": "2018-05-28T19:09:07.116120Z"
    }
   },
   "outputs": [
    {
     "data": {
      "text/plain": [
       "(60000, 784)"
      ]
     },
     "execution_count": 3,
     "metadata": {},
     "output_type": "execute_result"
    }
   ],
   "source": [
    "train_images.shape"
   ]
  },
  {
   "cell_type": "code",
   "execution_count": 8,
   "metadata": {
    "ExecuteTime": {
     "end_time": "2018-05-28T19:09:09.386050Z",
     "start_time": "2018-05-28T19:09:09.375077Z"
    }
   },
   "outputs": [
    {
     "data": {
      "text/plain": [
       "(70000,)"
      ]
     },
     "execution_count": 8,
     "metadata": {},
     "output_type": "execute_result"
    }
   ],
   "source": [
    "train_labels.shape"
   ]
  },
  {
   "cell_type": "code",
   "execution_count": 9,
   "metadata": {
    "ExecuteTime": {
     "end_time": "2018-05-28T19:09:10.075399Z",
     "start_time": "2018-05-28T19:09:09.862403Z"
    }
   },
   "outputs": [],
   "source": [
    "from sklearn.linear_model import LogisticRegression"
   ]
  },
  {
   "cell_type": "code",
   "execution_count": 101,
   "metadata": {
    "ExecuteTime": {
     "end_time": "2018-05-28T19:27:19.911071Z",
     "start_time": "2018-05-28T19:27:19.904754Z"
    }
   },
   "outputs": [],
   "source": [
    "from sklearn import svm"
   ]
  },
  {
   "cell_type": "code",
   "execution_count": 109,
   "metadata": {
    "ExecuteTime": {
     "end_time": "2018-05-28T19:33:30.379151Z",
     "start_time": "2018-05-28T19:33:30.370512Z"
    }
   },
   "outputs": [],
   "source": [
    "from sklearn.neighbors import KNeighborsClassifier"
   ]
  },
  {
   "cell_type": "markdown",
   "metadata": {},
   "source": [
    "### subsetting the train data to 1000 images"
   ]
  },
  {
   "cell_type": "code",
   "execution_count": 10,
   "metadata": {
    "ExecuteTime": {
     "end_time": "2018-05-28T19:09:10.942122Z",
     "start_time": "2018-05-28T19:09:10.939905Z"
    }
   },
   "outputs": [],
   "source": [
    "x_train = train_images[:1000]\n",
    "y_train = train_labels[:1000]"
   ]
  },
  {
   "cell_type": "markdown",
   "metadata": {
    "ExecuteTime": {
     "end_time": "2018-05-30T23:49:06.702808Z",
     "start_time": "2018-05-30T23:49:06.700659Z"
    }
   },
   "source": [
    "### Instantiating the various models"
   ]
  },
  {
   "cell_type": "code",
   "execution_count": 11,
   "metadata": {
    "ExecuteTime": {
     "end_time": "2018-05-28T19:09:11.643826Z",
     "start_time": "2018-05-28T19:09:11.635826Z"
    }
   },
   "outputs": [],
   "source": [
    "logisticRegr = LogisticRegression()"
   ]
  },
  {
   "cell_type": "code",
   "execution_count": 102,
   "metadata": {
    "ExecuteTime": {
     "end_time": "2018-05-28T19:30:52.570500Z",
     "start_time": "2018-05-28T19:30:52.562042Z"
    }
   },
   "outputs": [],
   "source": [
    "svm_classifer = svm.SVC(gamma=0.01)"
   ]
  },
  {
   "cell_type": "code",
   "execution_count": 110,
   "metadata": {
    "ExecuteTime": {
     "end_time": "2018-05-28T19:33:47.185492Z",
     "start_time": "2018-05-28T19:33:47.178082Z"
    },
    "hide_input": false
   },
   "outputs": [],
   "source": [
    "knn_classifier = KNeighborsClassifier()"
   ]
  },
  {
   "cell_type": "markdown",
   "metadata": {},
   "source": [
    "### Training the various models"
   ]
  },
  {
   "cell_type": "code",
   "execution_count": 12,
   "metadata": {
    "ExecuteTime": {
     "end_time": "2018-05-28T19:09:12.894650Z",
     "start_time": "2018-05-28T19:09:12.558373Z"
    }
   },
   "outputs": [
    {
     "data": {
      "text/plain": [
       "LogisticRegression(C=1.0, class_weight=None, dual=False, fit_intercept=True,\n",
       "          intercept_scaling=1, max_iter=100, multi_class='ovr', n_jobs=1,\n",
       "          penalty='l2', random_state=None, solver='liblinear', tol=0.0001,\n",
       "          verbose=0, warm_start=False)"
      ]
     },
     "execution_count": 12,
     "metadata": {},
     "output_type": "execute_result"
    }
   ],
   "source": [
    "logisticRegr.fit(x_train, y_train)"
   ]
  },
  {
   "cell_type": "code",
   "execution_count": 103,
   "metadata": {
    "ExecuteTime": {
     "end_time": "2018-05-28T19:31:17.315738Z",
     "start_time": "2018-05-28T19:31:15.591672Z"
    }
   },
   "outputs": [
    {
     "data": {
      "text/plain": [
       "SVC(C=1.0, cache_size=200, class_weight=None, coef0=0.0,\n",
       "  decision_function_shape='ovr', degree=3, gamma=0.01, kernel='rbf',\n",
       "  max_iter=-1, probability=False, random_state=None, shrinking=True,\n",
       "  tol=0.001, verbose=False)"
      ]
     },
     "execution_count": 103,
     "metadata": {},
     "output_type": "execute_result"
    }
   ],
   "source": [
    "svm_classifer.fit(x_train, y_train)"
   ]
  },
  {
   "cell_type": "code",
   "execution_count": 111,
   "metadata": {
    "ExecuteTime": {
     "end_time": "2018-05-28T19:33:56.032363Z",
     "start_time": "2018-05-28T19:33:55.992230Z"
    }
   },
   "outputs": [
    {
     "data": {
      "text/plain": [
       "KNeighborsClassifier(algorithm='auto', leaf_size=30, metric='minkowski',\n",
       "           metric_params=None, n_jobs=1, n_neighbors=5, p=2,\n",
       "           weights='uniform')"
      ]
     },
     "execution_count": 111,
     "metadata": {},
     "output_type": "execute_result"
    }
   ],
   "source": [
    "knn_classifier.fit(x_train, y_train)"
   ]
  },
  {
   "cell_type": "markdown",
   "metadata": {},
   "source": [
    "### Pickling the models to disk"
   ]
  },
  {
   "cell_type": "code",
   "execution_count": 347,
   "metadata": {
    "ExecuteTime": {
     "end_time": "2018-05-28T19:44:16.913076Z",
     "start_time": "2018-05-28T19:44:16.910151Z"
    }
   },
   "outputs": [],
   "source": [
    "from sklearn.externals import joblib"
   ]
  },
  {
   "cell_type": "code",
   "execution_count": 348,
   "metadata": {
    "ExecuteTime": {
     "end_time": "2018-05-28T19:44:17.304178Z",
     "start_time": "2018-05-28T19:44:17.299939Z"
    }
   },
   "outputs": [
    {
     "data": {
      "text/plain": [
       "['final_model.pk']"
      ]
     },
     "execution_count": 348,
     "metadata": {},
     "output_type": "execute_result"
    }
   ],
   "source": [
    "joblib.dump(logisticRegr, \"model/logistic_model.pk\")\n",
    "joblib.dump(svm_classifer, \"model/svm_model.pk\")\n",
    "joblib.dump(knn_classifier, \"model/knn_model.pk\")"
   ]
  },
  {
   "cell_type": "code",
   "execution_count": 393,
   "metadata": {
    "ExecuteTime": {
     "end_time": "2018-05-28T19:49:25.853737Z",
     "start_time": "2018-05-28T19:49:25.847759Z"
    }
   },
   "outputs": [],
   "source": [
    "import cv2"
   ]
  },
  {
   "cell_type": "code",
   "execution_count": 394,
   "metadata": {
    "ExecuteTime": {
     "end_time": "2018-05-28T19:49:26.300240Z",
     "start_time": "2018-05-28T19:49:26.295523Z"
    }
   },
   "outputs": [],
   "source": [
    "inputImage = cv2.imread(\"learning_qt/.~tmpImage.png\")"
   ]
  },
  {
   "cell_type": "code",
   "execution_count": 395,
   "metadata": {
    "ExecuteTime": {
     "end_time": "2018-05-28T19:49:26.696289Z",
     "start_time": "2018-05-28T19:49:26.691440Z"
    }
   },
   "outputs": [],
   "source": [
    "inputImage = cv2.cvtColor(inputImage, cv2.COLOR_RGB2GRAY)"
   ]
  },
  {
   "cell_type": "code",
   "execution_count": 396,
   "metadata": {
    "ExecuteTime": {
     "end_time": "2018-05-28T19:49:27.063067Z",
     "start_time": "2018-05-28T19:49:27.061016Z"
    }
   },
   "outputs": [],
   "source": [
    "row, col = inputImage.shape"
   ]
  },
  {
   "cell_type": "code",
   "execution_count": 397,
   "metadata": {
    "ExecuteTime": {
     "end_time": "2018-05-28T19:49:28.110235Z",
     "start_time": "2018-05-28T19:49:27.509751Z"
    }
   },
   "outputs": [],
   "source": [
    "min_non_zero_pixel = [col, row]\n",
    "max_non_zero_pixel = [0, 0]\n",
    "for x in range(row):\n",
    "    for y in range(col):\n",
    "        if inputImage[x, y] == 0:\n",
    "#             print(x, y)\n",
    "            if y < min_non_zero_pixel[0]:\n",
    "                min_non_zero_pixel[0] = y\n",
    "#                 print(min_non_zero_pixel)\n",
    "            if y > max_non_zero_pixel[0]:\n",
    "                max_non_zero_pixel[0] = y                           \n",
    "#                 print(max_non_zero_pixel)\n",
    "            if x < min_non_zero_pixel[1]:\n",
    "                min_non_zero_pixel[1] = x\n",
    "#                 print(min_non_zero_pixel)\n",
    "            if x > max_non_zero_pixel[1]:\n",
    "                max_non_zero_pixel[1] = x\n",
    "#                 print(max_non_zero_pixel)"
   ]
  },
  {
   "cell_type": "code",
   "execution_count": 398,
   "metadata": {
    "ExecuteTime": {
     "end_time": "2018-05-28T19:49:28.555493Z",
     "start_time": "2018-05-28T19:49:28.553075Z"
    }
   },
   "outputs": [],
   "source": [
    "roi = inputImage[min_non_zero_pixel[1]:max_non_zero_pixel[1], min_non_zero_pixel[0]:max_non_zero_pixel[0]]"
   ]
  },
  {
   "cell_type": "code",
   "execution_count": 399,
   "metadata": {
    "ExecuteTime": {
     "end_time": "2018-05-28T19:49:29.015701Z",
     "start_time": "2018-05-28T19:49:29.013318Z"
    }
   },
   "outputs": [],
   "source": [
    "subImage = cv2.resize(np.invert(roi), (28, 28))"
   ]
  },
  {
   "cell_type": "code",
   "execution_count": 400,
   "metadata": {
    "ExecuteTime": {
     "end_time": "2018-05-28T19:49:29.600658Z",
     "start_time": "2018-05-28T19:49:29.476691Z"
    }
   },
   "outputs": [
    {
     "data": {
      "text/plain": [
       "<matplotlib.image.AxesImage at 0x7f869c2f07b8>"
      ]
     },
     "execution_count": 400,
     "metadata": {},
     "output_type": "execute_result"
    },
    {
     "data": {
      "image/png": "[encoded data removed]",
      "text/plain": [
       "<Figure size 432x288 with 1 Axes>"
      ]
     },
     "metadata": {},
     "output_type": "display_data"
    }
   ],
   "source": [
    "plt.imshow(subImage)"
   ]
  },
  {
   "cell_type": "code",
   "execution_count": 401,
   "metadata": {
    "ExecuteTime": {
     "end_time": "2018-05-28T19:49:30.053513Z",
     "start_time": "2018-05-28T19:49:30.048931Z"
    }
   },
   "outputs": [
    {
     "data": {
      "text/plain": [
       "array([7], dtype=uint8)"
      ]
     },
     "execution_count": 401,
     "metadata": {},
     "output_type": "execute_result"
    }
   ],
   "source": [
    "classifer.predict(np.reshape(subImage, (-1, 784)))"
   ]
  },
  {
   "cell_type": "code",
   "execution_count": 402,
   "metadata": {
    "ExecuteTime": {
     "end_time": "2018-05-28T19:49:30.426067Z",
     "start_time": "2018-05-28T19:49:30.422463Z"
    }
   },
   "outputs": [
    {
     "data": {
      "text/plain": [
       "array([4], dtype=uint8)"
      ]
     },
     "execution_count": 402,
     "metadata": {},
     "output_type": "execute_result"
    }
   ],
   "source": [
    "logisticRegr.predict(np.reshape(subImage, (-1, 784)))"
   ]
  },
  {
   "cell_type": "code",
   "execution_count": 403,
   "metadata": {
    "ExecuteTime": {
     "end_time": "2018-05-28T19:49:30.901594Z",
     "start_time": "2018-05-28T19:49:30.894221Z"
    }
   },
   "outputs": [
    {
     "data": {
      "text/plain": [
       "array([1], dtype=uint8)"
      ]
     },
     "execution_count": 403,
     "metadata": {},
     "output_type": "execute_result"
    }
   ],
   "source": [
    "knn_classifier.predict(np.reshape(subImage, (-1, 784)))"
   ]
  }
 ],
 "metadata": {
  "kernelspec": {
   "display_name": "Python 3",
   "language": "python",
   "name": "python3"
  },
  "language_info": {
   "codemirror_mode": {
    "name": "ipython",
    "version": 3
   },
   "file_extension": ".py",
   "mimetype": "text/x-python",
   "name": "python",
   "nbconvert_exporter": "python",
   "pygments_lexer": "ipython3",
   "version": "3.6.3"
  },
  "varInspector": {
   "cols": {
    "lenName": 16,
    "lenType": 16,
    "lenVar": 40
   },
   "kernels_config": {
    "python": {
     "delete_cmd_postfix": "",
     "delete_cmd_prefix": "del ",
     "library": "var_list.py",
     "varRefreshCmd": "print(var_dic_list())"
    },
    "r": {
     "delete_cmd_postfix": ") ",
     "delete_cmd_prefix": "rm(",
     "library": "var_list.r",
     "varRefreshCmd": "cat(var_dic_list()) "
    }
   },
   "types_to_exclude": [
    "module",
    "function",
    "builtin_function_or_method",
    "instance",
    "_Feature"
   ],
   "window_display": false
  }
 },
 "nbformat": 4,
 "nbformat_minor": 2
}
