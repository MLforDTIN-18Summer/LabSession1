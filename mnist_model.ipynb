{
 "cells": [
  {
   "cell_type": "code",
   "execution_count": 3,
   "metadata": {
    "ExecuteTime": {
     "end_time": "2018-05-31T00:04:46.957424Z",
     "start_time": "2018-05-31T00:04:46.670699Z"
    }
   },
   "outputs": [],
   "source": [
    "import numpy as np\n",
    "import pandas as pd\n",
    "import matplotlib.pyplot as plt\n",
    "import os, subprocess\n",
    "import gzip\n",
    "%matplotlib inline"
   ]
  },
  {
   "cell_type": "markdown",
   "metadata": {
    "ExecuteTime": {
     "end_time": "2018-05-30T23:45:39.812974Z",
     "start_time": "2018-05-30T23:45:39.806558Z"
    }
   },
   "source": [
    "### Loading the Data"
   ]
  },
  {
   "cell_type": "code",
   "execution_count": 4,
   "metadata": {
    "ExecuteTime": {
     "end_time": "2018-05-31T00:04:47.831859Z",
     "start_time": "2018-05-31T00:04:47.470189Z"
    }
   },
   "outputs": [],
   "source": [
    "MNIST_data_path = \"./learning_qt/data/MNIST\"\n",
    "with gzip.open(\"{}/train-images-idx3-ubyte.gz\".format(MNIST_data_path), \"rb\") as train_images_file, gzip.open(\"{}/train-labels-idx1-ubyte.gz\".format(MNIST_data_path), \"rb\") as train_labels_file, gzip.open(\"{}/t10k-images-idx3-ubyte.gz\".format(MNIST_data_path)) as test_images_file, gzip.open(\"{}/t10k-labels-idx1-ubyte.gz\".format(MNIST_data_path)) as test_labels_file:\n",
    "    train_images_file = train_images_file.read()\n",
    "    train_labels_file = train_labels_file.read()\n",
    "    test_images_file = test_images_file.read()\n",
    "    test_labels_file = test_labels_file.read()\n",
    "    train_images = np.frombuffer(train_images_file, dtype=np.uint8, offset=16).astype(np.float32)\n",
    "    train_labels = np.frombuffer(train_labels_file, dtype=np.uint8, offset=8)\n",
    "    test_images = np.frombuffer(test_images_file, dtype=np.uint8, offset=16).astype(np.float32)\n",
    "    test_labels = np.frombuffer(test_labels_file, dtype=np.uint8, offset=8)\n",
    "    train_images = train_images.reshape(60000,784)\n",
    "    test_images = test_images.reshape(10000, 784)\n",
    "    database_train_images = pd.DataFrame(train_images)\n",
    "    database_train_labels = pd.DataFrame(train_labels)\n",
    "    database_test_images = pd.DataFrame(test_images)\n",
    "    database_test_labels = pd.DataFrame(test_labels)"
   ]
  },
  {
   "cell_type": "markdown",
   "metadata": {},
   "source": [
    "### Sample data"
   ]
  },
  {
   "cell_type": "code",
   "execution_count": 5,
   "metadata": {
    "ExecuteTime": {
     "end_time": "2018-05-31T00:04:48.696174Z",
     "start_time": "2018-05-31T00:04:48.605631Z"
    }
   },
   "outputs": [
    {
     "data": {
      "image/png": "[encoded data removed]",
      "text/plain": [
       "<Figure size 432x288 with 1 Axes>"
      ]
     },
     "metadata": {},
     "output_type": "display_data"
    }
   ],
   "source": [
    "plt.imshow(np.reshape(train_images[0], (28, 28)))\n",
    "plt.show()"
   ]
  },
  {
   "cell_type": "markdown",
   "metadata": {},
   "source": [
    "### Shape of train data"
   ]
  },
  {
   "cell_type": "code",
   "execution_count": 6,
   "metadata": {
    "ExecuteTime": {
     "end_time": "2018-05-31T00:04:49.459586Z",
     "start_time": "2018-05-31T00:04:49.456385Z"
    }
   },
   "outputs": [
    {
     "data": {
      "text/plain": [
       "(60000, 784)"
      ]
     },
     "execution_count": 6,
     "metadata": {},
     "output_type": "execute_result"
    }
   ],
   "source": [
    "train_images.shape"
   ]
  },
  {
   "cell_type": "code",
   "execution_count": 7,
   "metadata": {
    "ExecuteTime": {
     "end_time": "2018-05-31T00:04:50.190882Z",
     "start_time": "2018-05-31T00:04:50.188091Z"
    }
   },
   "outputs": [
    {
     "data": {
      "text/plain": [
       "(60000,)"
      ]
     },
     "execution_count": 7,
     "metadata": {},
     "output_type": "execute_result"
    }
   ],
   "source": [
    "train_labels.shape"
   ]
  },
  {
   "cell_type": "code",
   "execution_count": 8,
   "metadata": {
    "ExecuteTime": {
     "end_time": "2018-05-31T00:04:51.242051Z",
     "start_time": "2018-05-31T00:04:50.929174Z"
    }
   },
   "outputs": [],
   "source": [
    "from sklearn.linear_model import LogisticRegression"
   ]
  },
  {
   "cell_type": "code",
   "execution_count": 9,
   "metadata": {
    "ExecuteTime": {
     "end_time": "2018-05-31T00:04:52.131560Z",
     "start_time": "2018-05-31T00:04:52.129386Z"
    }
   },
   "outputs": [],
   "source": [
    "from sklearn import svm"
   ]
  },
  {
   "cell_type": "code",
   "execution_count": 10,
   "metadata": {
    "ExecuteTime": {
     "end_time": "2018-05-31T00:04:53.005525Z",
     "start_time": "2018-05-31T00:04:53.003272Z"
    }
   },
   "outputs": [],
   "source": [
    "from sklearn.neighbors import KNeighborsClassifier"
   ]
  },
  {
   "cell_type": "markdown",
   "metadata": {},
   "source": [
    "### subsetting the train data to 1000 images"
   ]
  },
  {
   "cell_type": "code",
   "execution_count": 11,
   "metadata": {
    "ExecuteTime": {
     "end_time": "2018-05-31T00:04:55.441321Z",
     "start_time": "2018-05-31T00:04:55.434403Z"
    }
   },
   "outputs": [],
   "source": [
    "x_train = train_images[:1000]\n",
    "y_train = train_labels[:1000]"
   ]
  },
  {
   "cell_type": "markdown",
   "metadata": {
    "ExecuteTime": {
     "end_time": "2018-05-30T23:49:06.702808Z",
     "start_time": "2018-05-30T23:49:06.700659Z"
    }
   },
   "source": [
    "### Instantiating the various models"
   ]
  },
  {
   "cell_type": "code",
   "execution_count": 12,
   "metadata": {
    "ExecuteTime": {
     "end_time": "2018-05-31T00:04:56.970814Z",
     "start_time": "2018-05-31T00:04:56.968579Z"
    }
   },
   "outputs": [],
   "source": [
    "logisticRegr = LogisticRegression()"
   ]
  },
  {
   "cell_type": "code",
   "execution_count": 13,
   "metadata": {
    "ExecuteTime": {
     "end_time": "2018-05-31T00:04:59.178915Z",
     "start_time": "2018-05-31T00:04:59.172975Z"
    }
   },
   "outputs": [],
   "source": [
    "svm_classifer = svm.SVC(gamma=0.01)"
   ]
  },
  {
   "cell_type": "code",
   "execution_count": 14,
   "metadata": {
    "ExecuteTime": {
     "end_time": "2018-05-31T00:05:00.355908Z",
     "start_time": "2018-05-31T00:05:00.349806Z"
    },
    "hide_input": false
   },
   "outputs": [],
   "source": [
    "knn_classifier = KNeighborsClassifier()"
   ]
  },
  {
   "cell_type": "markdown",
   "metadata": {},
   "source": [
    "### Training the various models"
   ]
  },
  {
   "cell_type": "code",
   "execution_count": 15,
   "metadata": {
    "ExecuteTime": {
     "end_time": "2018-05-31T00:05:03.417692Z",
     "start_time": "2018-05-31T00:05:03.092801Z"
    }
   },
   "outputs": [
    {
     "data": {
      "text/plain": [
       "LogisticRegression(C=1.0, class_weight=None, dual=False, fit_intercept=True,\n",
       "          intercept_scaling=1, max_iter=100, multi_class='ovr', n_jobs=1,\n",
       "          penalty='l2', random_state=None, solver='liblinear', tol=0.0001,\n",
       "          verbose=0, warm_start=False)"
      ]
     },
     "execution_count": 15,
     "metadata": {},
     "output_type": "execute_result"
    }
   ],
   "source": [
    "logisticRegr.fit(x_train, y_train)"
   ]
  },
  {
   "cell_type": "code",
   "execution_count": 16,
   "metadata": {
    "ExecuteTime": {
     "end_time": "2018-05-31T00:05:05.800736Z",
     "start_time": "2018-05-31T00:05:04.140150Z"
    }
   },
   "outputs": [
    {
     "data": {
      "text/plain": [
       "SVC(C=1.0, cache_size=200, class_weight=None, coef0=0.0,\n",
       "  decision_function_shape='ovr', degree=3, gamma=0.01, kernel='rbf',\n",
       "  max_iter=-1, probability=False, random_state=None, shrinking=True,\n",
       "  tol=0.001, verbose=False)"
      ]
     },
     "execution_count": 16,
     "metadata": {},
     "output_type": "execute_result"
    }
   ],
   "source": [
    "svm_classifer.fit(x_train, y_train)"
   ]
  },
  {
   "cell_type": "code",
   "execution_count": 17,
   "metadata": {
    "ExecuteTime": {
     "end_time": "2018-05-31T00:05:06.550650Z",
     "start_time": "2018-05-31T00:05:06.531461Z"
    }
   },
   "outputs": [
    {
     "data": {
      "text/plain": [
       "KNeighborsClassifier(algorithm='auto', leaf_size=30, metric='minkowski',\n",
       "           metric_params=None, n_jobs=1, n_neighbors=5, p=2,\n",
       "           weights='uniform')"
      ]
     },
     "execution_count": 17,
     "metadata": {},
     "output_type": "execute_result"
    }
   ],
   "source": [
    "knn_classifier.fit(x_train, y_train)"
   ]
  },
  {
   "cell_type": "markdown",
   "metadata": {},
   "source": [
    "### Pickling the models to disk"
   ]
  },
  {
   "cell_type": "code",
   "execution_count": 18,
   "metadata": {
    "ExecuteTime": {
     "end_time": "2018-05-31T00:05:07.287615Z",
     "start_time": "2018-05-31T00:05:07.285555Z"
    }
   },
   "outputs": [],
   "source": [
    "from sklearn.externals import joblib"
   ]
  },
  {
   "cell_type": "code",
   "execution_count": 19,
   "metadata": {
    "ExecuteTime": {
     "end_time": "2018-05-31T00:05:08.037944Z",
     "start_time": "2018-05-31T00:05:08.022682Z"
    }
   },
   "outputs": [
    {
     "data": {
      "text/plain": [
       "['model/knn_model.pk']"
      ]
     },
     "execution_count": 19,
     "metadata": {},
     "output_type": "execute_result"
    }
   ],
   "source": [
    "joblib.dump(logisticRegr, \"model/logistic_model.pk\")\n",
    "joblib.dump(svm_classifer, \"model/svm_model.pk\")\n",
    "joblib.dump(knn_classifier, \"model/knn_model.pk\")"
   ]
  },
  {
   "cell_type": "code",
   "execution_count": 20,
   "metadata": {
    "ExecuteTime": {
     "end_time": "2018-05-31T00:05:17.915530Z",
     "start_time": "2018-05-31T00:05:17.818124Z"
    }
   },
   "outputs": [],
   "source": [
    "import cv2"
   ]
  },
  {
   "cell_type": "code",
   "execution_count": 21,
   "metadata": {
    "ExecuteTime": {
     "end_time": "2018-05-31T00:05:18.681930Z",
     "start_time": "2018-05-31T00:05:18.669621Z"
    }
   },
   "outputs": [],
   "source": [
    "inputImage = cv2.imread(\"learning_qt/.~tmpImage.png\")"
   ]
  },
  {
   "cell_type": "code",
   "execution_count": 22,
   "metadata": {
    "ExecuteTime": {
     "end_time": "2018-05-31T00:05:19.422597Z",
     "start_time": "2018-05-31T00:05:19.413126Z"
    }
   },
   "outputs": [],
   "source": [
    "inputImage = cv2.cvtColor(inputImage, cv2.COLOR_RGB2GRAY)"
   ]
  },
  {
   "cell_type": "code",
   "execution_count": 23,
   "metadata": {
    "ExecuteTime": {
     "end_time": "2018-05-31T00:05:20.154095Z",
     "start_time": "2018-05-31T00:05:20.151599Z"
    }
   },
   "outputs": [],
   "source": [
    "row, col = inputImage.shape"
   ]
  },
  {
   "cell_type": "code",
   "execution_count": 24,
   "metadata": {
    "ExecuteTime": {
     "end_time": "2018-05-31T00:05:21.340274Z",
     "start_time": "2018-05-31T00:05:20.884406Z"
    }
   },
   "outputs": [],
   "source": [
    "min_non_zero_pixel = [col, row]\n",
    "max_non_zero_pixel = [0, 0]\n",
    "for x in range(row):\n",
    "    for y in range(col):\n",
    "        if inputImage[x, y] == 0:\n",
    "#             print(x, y)\n",
    "            if y < min_non_zero_pixel[0]:\n",
    "                min_non_zero_pixel[0] = y\n",
    "#                 print(min_non_zero_pixel)\n",
    "            if y > max_non_zero_pixel[0]:\n",
    "                max_non_zero_pixel[0] = y                           \n",
    "#                 print(max_non_zero_pixel)\n",
    "            if x < min_non_zero_pixel[1]:\n",
    "                min_non_zero_pixel[1] = x\n",
    "#                 print(min_non_zero_pixel)\n",
    "            if x > max_non_zero_pixel[1]:\n",
    "                max_non_zero_pixel[1] = x\n",
    "#                 print(max_non_zero_pixel)"
   ]
  },
  {
   "cell_type": "code",
   "execution_count": 25,
   "metadata": {
    "ExecuteTime": {
     "end_time": "2018-05-31T00:05:22.060111Z",
     "start_time": "2018-05-31T00:05:22.057757Z"
    }
   },
   "outputs": [],
   "source": [
    "roi = inputImage[min_non_zero_pixel[1]:max_non_zero_pixel[1], min_non_zero_pixel[0]:max_non_zero_pixel[0]]"
   ]
  },
  {
   "cell_type": "code",
   "execution_count": 26,
   "metadata": {
    "ExecuteTime": {
     "end_time": "2018-05-31T00:05:22.795543Z",
     "start_time": "2018-05-31T00:05:22.789648Z"
    }
   },
   "outputs": [],
   "source": [
    "subImage = cv2.resize(np.invert(roi), (28, 28))"
   ]
  },
  {
   "cell_type": "code",
   "execution_count": 27,
   "metadata": {
    "ExecuteTime": {
     "end_time": "2018-05-31T00:05:23.888145Z",
     "start_time": "2018-05-31T00:05:23.759674Z"
    }
   },
   "outputs": [
    {
     "data": {
      "text/plain": [
       "<matplotlib.image.AxesImage at 0x7fba8c374da0>"
      ]
     },
     "execution_count": 27,
     "metadata": {},
     "output_type": "execute_result"
    },
    {
     "data": {
      "image/png": "[encoded data removed]",
      "text/plain": [
       "<Figure size 432x288 with 1 Axes>"
      ]
     },
     "metadata": {},
     "output_type": "display_data"
    }
   ],
   "source": [
    "plt.imshow(subImage)"
   ]
  },
  {
   "cell_type": "code",
   "execution_count": 30,
   "metadata": {
    "ExecuteTime": {
     "end_time": "2018-05-31T00:05:42.280930Z",
     "start_time": "2018-05-31T00:05:42.272970Z"
    }
   },
   "outputs": [
    {
     "data": {
      "text/plain": [
       "array([7], dtype=uint8)"
      ]
     },
     "execution_count": 30,
     "metadata": {},
     "output_type": "execute_result"
    }
   ],
   "source": [
    "svm_classifer.predict(np.reshape(subImage, (-1, 784)))"
   ]
  },
  {
   "cell_type": "code",
   "execution_count": 31,
   "metadata": {
    "ExecuteTime": {
     "end_time": "2018-05-31T00:05:43.155014Z",
     "start_time": "2018-05-31T00:05:43.151099Z"
    }
   },
   "outputs": [
    {
     "data": {
      "text/plain": [
       "array([3], dtype=uint8)"
      ]
     },
     "execution_count": 31,
     "metadata": {},
     "output_type": "execute_result"
    }
   ],
   "source": [
    "logisticRegr.predict(np.reshape(subImage, (-1, 784)))"
   ]
  },
  {
   "cell_type": "code",
   "execution_count": 32,
   "metadata": {
    "ExecuteTime": {
     "end_time": "2018-05-31T00:05:43.898981Z",
     "start_time": "2018-05-31T00:05:43.893349Z"
    }
   },
   "outputs": [
    {
     "data": {
      "text/plain": [
       "array([5], dtype=uint8)"
      ]
     },
     "execution_count": 32,
     "metadata": {},
     "output_type": "execute_result"
    }
   ],
   "source": [
    "knn_classifier.predict(np.reshape(subImage, (-1, 784)))"
   ]
  }
 ],
 "metadata": {
  "kernelspec": {
   "display_name": "Python 3",
   "language": "python",
   "name": "python3"
  },
  "language_info": {
   "codemirror_mode": {
    "name": "ipython",
    "version": 3
   },
   "file_extension": ".py",
   "mimetype": "text/x-python",
   "name": "python",
   "nbconvert_exporter": "python",
   "pygments_lexer": "ipython3",
   "version": "3.6.3"
  },
  "varInspector": {
   "cols": {
    "lenName": 16,
    "lenType": 16,
    "lenVar": 40
   },
   "kernels_config": {
    "python": {
     "delete_cmd_postfix": "",
     "delete_cmd_prefix": "del ",
     "library": "var_list.py",
     "varRefreshCmd": "print(var_dic_list())"
    },
    "r": {
     "delete_cmd_postfix": ") ",
     "delete_cmd_prefix": "rm(",
     "library": "var_list.r",
     "varRefreshCmd": "cat(var_dic_list()) "
    }
   },
   "types_to_exclude": [
    "module",
    "function",
    "builtin_function_or_method",
    "instance",
    "_Feature"
   ],
   "window_display": false
  }
 },
 "nbformat": 4,
 "nbformat_minor": 2
}
